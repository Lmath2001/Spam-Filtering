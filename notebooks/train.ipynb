{
 "cells": [
  {
   "cell_type": "code",
   "execution_count": 2,
   "id": "drawn-secretariat",
   "metadata": {},
   "outputs": [],
   "source": [
    "import pickle\n",
    "with open('x_list.pkl','rb') as f:\n",
    "    x_prepared = pickle.load(f)"
   ]
  },
  {
   "cell_type": "code",
   "execution_count": 5,
   "id": "handy-privilege",
   "metadata": {},
   "outputs": [],
   "source": [
    "import pandas as pd\n",
    "data = pd.read_csv(\"final_data.csv\")"
   ]
  },
  {
   "cell_type": "code",
   "execution_count": 7,
   "id": "finnish-minneapolis",
   "metadata": {},
   "outputs": [],
   "source": [
    "from sklearn.naive_bayes import GaussianNB\n",
    "from sklearn.model_selection import train_test_split\n",
    "from sklearn.feature_extraction.text import CountVectorizer\n",
    "vectorizer = CountVectorizer(max_features=20000)\n",
    "x = vectorizer.fit_transform([\" \".join(text) for text in x_prepared]).toarray()"
   ]
  },
  {
   "cell_type": "code",
   "execution_count": 8,
   "id": "sorted-secondary",
   "metadata": {},
   "outputs": [
    {
     "data": {
      "text/plain": [
       "(18650, 20000)"
      ]
     },
     "execution_count": 8,
     "metadata": {},
     "output_type": "execute_result"
    }
   ],
   "source": [
    "x.shape"
   ]
  },
  {
   "cell_type": "code",
   "execution_count": 10,
   "id": "mighty-cement",
   "metadata": {},
   "outputs": [
    {
     "data": {
      "text/plain": [
       "(14920, 20000)"
      ]
     },
     "execution_count": 10,
     "metadata": {},
     "output_type": "execute_result"
    }
   ],
   "source": [
    "import numpy as np\n",
    "x_train,x_test,y_train,y_test = train_test_split(x,np.asarray(data[\"Label\"]),random_state=42,test_size=0.2)\n",
    "x_train.shape"
   ]
  },
  {
   "cell_type": "code",
   "execution_count": 12,
   "id": "hazardous-asbestos",
   "metadata": {},
   "outputs": [
    {
     "name": "stdout",
     "output_type": "stream",
     "text": [
      "72.4\n"
     ]
    }
   ],
   "source": [
    "import time\n",
    "start_time = time.time()\n",
    "NB = GaussianNB()\n",
    "NB.fit(x_train,y_train)\n",
    "end_time = time.time()\n",
    "\n",
    "print(round(end_time-start_time,2))"
   ]
  },
  {
   "cell_type": "code",
   "execution_count": 13,
   "id": "minute-firewall",
   "metadata": {},
   "outputs": [
    {
     "data": {
      "text/plain": [
       "0.8187667560321715"
      ]
     },
     "execution_count": 13,
     "metadata": {},
     "output_type": "execute_result"
    }
   ],
   "source": [
    "NB.score(x_test,y_test)"
   ]
  },
  {
   "cell_type": "code",
   "execution_count": 14,
   "id": "twenty-coordination",
   "metadata": {},
   "outputs": [
    {
     "data": {
      "image/png": "[encoded data removed]",
      "text/plain": [
       "<Figure size 432x288 with 2 Axes>"
      ]
     },
     "metadata": {
      "needs_background": "light"
     },
     "output_type": "display_data"
    }
   ],
   "source": [
    "from sklearn.metrics import confusion_matrix\n",
    "y_pred = NB.predict(x_test)\n",
    "\n",
    "conf = confusion_matrix(y_pred=y_pred,y_true=y_test)\n",
    "import seaborn\n",
    "seaborn.heatmap(conf,annot=True,fmt=\".1f\",linewidths=1.5)\n",
    "import matplotlib.pyplot as plt\n",
    "plt.show()"
   ]
  },
  {
   "cell_type": "code",
   "execution_count": 15,
   "id": "local-glory",
   "metadata": {},
   "outputs": [],
   "source": [
    "import pickle\n",
    "# We will save count vectorizer and model\n",
    "with open(\"model.pckl\",mode=\"wb\") as F:\n",
    "    pickle.dump(NB,F)\n",
    "    \n",
    "with open(\"vectorizer.pckl\",mode=\"wb\") as F:\n",
    "    pickle.dump(vectorizer,F)"
   ]
  },
  {
   "cell_type": "code",
   "execution_count": null,
   "id": "skilled-bailey",
   "metadata": {},
   "outputs": [],
   "source": []
  }
 ],
 "metadata": {
  "kernelspec": {
   "display_name": "Python 3",
   "language": "python",
   "name": "python3"
  },
  "language_info": {
   "codemirror_mode": {
    "name": "ipython",
    "version": 3
   },
   "file_extension": ".py",
   "mimetype": "text/x-python",
   "name": "python",
   "nbconvert_exporter": "python",
   "pygments_lexer": "ipython3",
   "version": "3.9.2"
  }
 },
 "nbformat": 4,
 "nbformat_minor": 5
}
